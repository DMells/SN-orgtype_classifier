{
 "cells": [
  {
   "cell_type": "code",
   "execution_count": 57,
   "metadata": {
    "collapsed": true
   },
   "outputs": [],
   "source": [
    "#load dependencies\n",
    "import pandas as pd"
   ]
  },
  {
   "cell_type": "code",
   "execution_count": 58,
   "metadata": {
    "collapsed": true
   },
   "outputs": [],
   "source": [
    "# Read in data to dataframe\n",
    "df = pd.read_csv('sample_orgs.csv')"
   ]
  },
  {
   "cell_type": "code",
   "execution_count": 59,
   "metadata": {},
   "outputs": [
    {
     "data": {
      "text/html": [
       "<div>\n",
       "<style scoped>\n",
       "    .dataframe tbody tr th:only-of-type {\n",
       "        vertical-align: middle;\n",
       "    }\n",
       "\n",
       "    .dataframe tbody tr th {\n",
       "        vertical-align: top;\n",
       "    }\n",
       "\n",
       "    .dataframe thead th {\n",
       "        text-align: right;\n",
       "    }\n",
       "</style>\n",
       "<table border=\"1\" class=\"dataframe\">\n",
       "  <thead>\n",
       "    <tr style=\"text-align: right;\">\n",
       "      <th></th>\n",
       "      <th>org_string</th>\n",
       "      <th>scheme</th>\n",
       "      <th>id</th>\n",
       "      <th>legalname</th>\n",
       "      <th>status</th>\n",
       "    </tr>\n",
       "  </thead>\n",
       "  <tbody>\n",
       "    <tr>\n",
       "      <th>0</th>\n",
       "      <td>001 INSPIRATION LIMITED</td>\n",
       "      <td>GB-COH</td>\n",
       "      <td>6589669</td>\n",
       "      <td>001 INSPIRATION LIMITED</td>\n",
       "      <td>active</td>\n",
       "    </tr>\n",
       "    <tr>\n",
       "      <th>1</th>\n",
       "      <td>001 INSPIRATION LTD</td>\n",
       "      <td>GB-COH</td>\n",
       "      <td>6589669</td>\n",
       "      <td>001 INSPIRATION LIMITED</td>\n",
       "      <td>active</td>\n",
       "    </tr>\n",
       "    <tr>\n",
       "      <th>2</th>\n",
       "      <td>001 TAXIS</td>\n",
       "      <td>GB-COH</td>\n",
       "      <td>8080099</td>\n",
       "      <td>001 TAXIS (OXFORD) LIMITED</td>\n",
       "      <td>active</td>\n",
       "    </tr>\n",
       "    <tr>\n",
       "      <th>3</th>\n",
       "      <td>001 TAXIS (OXFORD) LIMITED</td>\n",
       "      <td>GB-COH</td>\n",
       "      <td>8080099</td>\n",
       "      <td>001 TAXIS (OXFORD) LIMITED</td>\n",
       "      <td>active</td>\n",
       "    </tr>\n",
       "    <tr>\n",
       "      <th>4</th>\n",
       "      <td>00409775 LIMITED</td>\n",
       "      <td>GB-COH</td>\n",
       "      <td>409775</td>\n",
       "      <td>00409775 LIMITED</td>\n",
       "      <td>liquidation</td>\n",
       "    </tr>\n",
       "  </tbody>\n",
       "</table>\n",
       "</div>"
      ],
      "text/plain": [
       "                   org_string  scheme       id                   legalname  \\\n",
       "0     001 INSPIRATION LIMITED  GB-COH  6589669     001 INSPIRATION LIMITED   \n",
       "1         001 INSPIRATION LTD  GB-COH  6589669     001 INSPIRATION LIMITED   \n",
       "2                   001 TAXIS  GB-COH  8080099  001 TAXIS (OXFORD) LIMITED   \n",
       "3  001 TAXIS (OXFORD) LIMITED  GB-COH  8080099  001 TAXIS (OXFORD) LIMITED   \n",
       "4            00409775 LIMITED  GB-COH   409775            00409775 LIMITED   \n",
       "\n",
       "        status  \n",
       "0       active  \n",
       "1       active  \n",
       "2       active  \n",
       "3       active  \n",
       "4  liquidation  "
      ]
     },
     "execution_count": 59,
     "metadata": {},
     "output_type": "execute_result"
    }
   ],
   "source": [
    "# Check sample data\n",
    "df.head()"
   ]
  },
  {
   "cell_type": "code",
   "execution_count": 60,
   "metadata": {
    "collapsed": true
   },
   "outputs": [],
   "source": [
    "probability_warning_threshold = 0.8"
   ]
  },
  {
   "cell_type": "code",
   "execution_count": 61,
   "metadata": {},
   "outputs": [
    {
     "name": "stdout",
     "output_type": "stream",
     "text": [
      "2000\n"
     ]
    }
   ],
   "source": [
    "print(len(df[df.columns[0]]))"
   ]
  },
  {
   "cell_type": "code",
   "execution_count": 62,
   "metadata": {},
   "outputs": [
    {
     "data": {
      "text/plain": [
       "'BOLSOVER DISTRICT YOUTH WORK'"
      ]
     },
     "execution_count": 62,
     "metadata": {},
     "output_type": "execute_result"
    }
   ],
   "source": [
    "df[df.columns[0]][1527]"
   ]
  },
  {
   "cell_type": "code",
   "execution_count": 63,
   "metadata": {},
   "outputs": [
    {
     "data": {
      "text/plain": [
       "'Registered charity'"
      ]
     },
     "execution_count": 63,
     "metadata": {},
     "output_type": "execute_result"
    }
   ],
   "source": [
    "import requests\n",
    "org_string = str(df[df.columns[0]][1527])\n",
    "# print(org_string)\n",
    "url = r'http://localhost:8080/predict?q=' + org_string\n",
    "r = requests.get(url)\n",
    "r.text"
   ]
  },
  {
   "cell_type": "code",
   "execution_count": 65,
   "metadata": {},
   "outputs": [],
   "source": [
    "def classify_org(org_string):\n",
    "        url = r'http://localhost:8080/predict?q=' + str(org_string)\n",
    "        r = requests.get(url)\n",
    "        orgtype = r.text\n",
    "        return orgtype"
   ]
  },
  {
   "cell_type": "code",
   "execution_count": 67,
   "metadata": {},
   "outputs": [],
   "source": [
    "# df['Orgtype'] = df.apply(classify_org, axis=1)\n",
    "df['Org_type'] = df['org_string'].apply(classify_org)"
   ]
  },
  {
   "cell_type": "code",
   "execution_count": 69,
   "metadata": {},
   "outputs": [
    {
     "data": {
      "text/plain": [
       "array(['Private Limited Company', 'Company Limited by Guarantee',\n",
       "       'Community Interest Company', 'Registered Society',\n",
       "       'Registered charity', 'Individual', 'Government', 'School',\n",
       "       'Community Amateur Sports Club', 'Local Authority',\n",
       "       'Royal Charter Company', 'Parish or Town Council'], dtype=object)"
      ]
     },
     "execution_count": 69,
     "metadata": {},
     "output_type": "execute_result"
    }
   ],
   "source": [
    "df['Org_type'].unique()"
   ]
  },
  {
   "cell_type": "code",
   "execution_count": null,
   "metadata": {
    "collapsed": true
   },
   "outputs": [],
   "source": []
  }
 ],
 "metadata": {
  "kernelspec": {
   "display_name": "Python [conda env:py3]",
   "language": "python",
   "name": "conda-env-py3-py"
  },
  "language_info": {
   "codemirror_mode": {
    "name": "ipython",
    "version": 3
   },
   "file_extension": ".py",
   "mimetype": "text/x-python",
   "name": "python",
   "nbconvert_exporter": "python",
   "pygments_lexer": "ipython3",
   "version": "3.6.2"
  }
 },
 "nbformat": 4,
 "nbformat_minor": 2
}
